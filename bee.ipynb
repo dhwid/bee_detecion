{
 "cells": [
  {
   "cell_type": "code",
   "execution_count": 0,
   "metadata": {
    "id": "enWUd27FgVaY",
    "colab_type": "code",
    "outputId": "56302aa6-3316-448f-aa05-3c209bc3d650",
    "colab": {
     "base_uri": "https://localhost:8080/",
     "height": 139.0
    }
   },
   "outputs": [
    {
     "name": "stdout",
     "output_type": "stream",
     "text": [
      "Cloning into 'bee_detecion'...\n",
      "remote: Enumerating objects: 59, done.\u001b[K\n",
      "remote: Counting objects: 100% (59/59), done.\u001b[K\n",
      "remote: Compressing objects: 100% (42/42), done.\u001b[K\n",
      "remote: Total 59 (delta 18), reused 51 (delta 13), pack-reused 0\u001b[K\n",
      "Unpacking objects: 100% (59/59), done.\n",
      "/content/bee_detecion\n"
     ]
    }
   ],
   "source": [
    "!rm -rf bee_detecion\n",
    "!git clone https://github.com/dhwid/bee_detecion.git\n",
    "%cd bee_detecion"
   ]
  },
  {
   "cell_type": "code",
   "execution_count": 0,
   "metadata": {
    "id": "n9y9ulIz5pC_",
    "colab_type": "code",
    "outputId": "8af9b90a-cf72-4df9-d725-9be9a30c1973",
    "colab": {
     "base_uri": "https://localhost:8080/",
     "height": 208.0
    }
   },
   "outputs": [
    {
     "name": "stdout",
     "output_type": "stream",
     "text": [
      "--2019-01-09 09:40:25--  https://pjreddie.com/media/files/yolov3-tiny.weights\n",
      "Resolving pjreddie.com (pjreddie.com)... 128.208.3.39\n",
      "Connecting to pjreddie.com (pjreddie.com)|128.208.3.39|:443... connected.\n",
      "HTTP request sent, awaiting response... 200 OK\n",
      "Length: 35434956 (34M) [application/octet-stream]\n",
      "Saving to: ‘yolov3-tiny.weights’\n",
      "\n",
      "yolov3-tiny.weights 100%[===================>]  33.79M  15.6MB/s    in 2.2s    \n",
      "\n",
      "2019-01-09 09:40:28 (15.6 MB/s) - ‘yolov3-tiny.weights’ saved [35434956/35434956]\n",
      "\n"
     ]
    }
   ],
   "source": [
    "!wget https://pjreddie.com/media/files/yolov3-tiny.weights"
   ]
  },
  {
   "cell_type": "code",
   "execution_count": 0,
   "metadata": {
    "id": "VbDDLM_GMRl0",
    "colab_type": "code",
    "outputId": "09a067fd-d33e-4056-f627-1d97064ce964",
    "colab": {
     "base_uri": "https://localhost:8080/",
     "height": 124.0
    }
   },
   "outputs": [
    {
     "name": "stdout",
     "output_type": "stream",
     "text": [
      "Go to this URL in a browser: https://accounts.google.com/o/oauth2/auth?client_id=947318989803-6bn6qk8qdgf4n4g3pfee6491hc0brc4i.apps.googleusercontent.com&redirect_uri=urn%3Aietf%3Awg%3Aoauth%3A2.0%3Aoob&scope=email%20https%3A%2F%2Fwww.googleapis.com%2Fauth%2Fdocs.test%20https%3A%2F%2Fwww.googleapis.com%2Fauth%2Fdrive%20https%3A%2F%2Fwww.googleapis.com%2Fauth%2Fdrive.photos.readonly%20https%3A%2F%2Fwww.googleapis.com%2Fauth%2Fpeopleapi.readonly&response_type=code\n",
      "\n",
      "Enter your authorization code:\n",
      "··········\n",
      "Mounted at /content/gdrive\n"
     ]
    }
   ],
   "source": [
    "from google.colab import drive\n",
    "drive.mount('/content/gdrive')"
   ]
  },
  {
   "cell_type": "code",
   "execution_count": 0,
   "metadata": {
    "id": "rLmTYM0pOmRG",
    "colab_type": "code",
    "outputId": "12617ada-f062-4a34-cd47-2145e73333f1",
    "colab": {
     "base_uri": "https://localhost:8080/",
     "height": 2724.0
    }
   },
   "outputs": [
    {
     "name": "stdout",
     "output_type": "stream",
     "text": [
      "Using TensorFlow backend.\n",
      "Loading weights.\n",
      "Weights Header:  0 2 0 [32013312]\n",
      "Parsing Darknet config.\n",
      "Creating Keras model.\n",
      "Parsing section net_0\n",
      "Parsing section convolutional_0\n",
      "conv2d bn leaky (3, 3, 3, 16)\n",
      "2019-01-09 09:53:02.637203: I tensorflow/stream_executor/cuda/cuda_gpu_executor.cc:964] successful NUMA node read from SysFS had negative value (-1), but there must be at least one NUMA node, so returning NUMA node zero\n",
      "2019-01-09 09:53:02.637697: I tensorflow/core/common_runtime/gpu/gpu_device.cc:1432] Found device 0 with properties: \n",
      "name: Tesla K80 major: 3 minor: 7 memoryClockRate(GHz): 0.8235\n",
      "pciBusID: 0000:00:04.0\n",
      "totalMemory: 11.17GiB freeMemory: 11.10GiB\n",
      "2019-01-09 09:53:02.637741: I tensorflow/core/common_runtime/gpu/gpu_device.cc:1511] Adding visible gpu devices: 0\n",
      "2019-01-09 09:53:03.052574: I tensorflow/core/common_runtime/gpu/gpu_device.cc:982] Device interconnect StreamExecutor with strength 1 edge matrix:\n",
      "2019-01-09 09:53:03.052671: I tensorflow/core/common_runtime/gpu/gpu_device.cc:988]      0 \n",
      "2019-01-09 09:53:03.052701: I tensorflow/core/common_runtime/gpu/gpu_device.cc:1001] 0:   N \n",
      "2019-01-09 09:53:03.052987: W tensorflow/core/common_runtime/gpu/gpu_bfc_allocator.cc:42] Overriding allow_growth setting because the TF_FORCE_GPU_ALLOW_GROWTH environment variable is set. Original config value was 0.\n",
      "2019-01-09 09:53:03.053066: I tensorflow/core/common_runtime/gpu/gpu_device.cc:1115] Created TensorFlow device (/job:localhost/replica:0/task:0/device:GPU:0 with 10758 MB memory) -> physical GPU (device: 0, name: Tesla K80, pci bus id: 0000:00:04.0, compute capability: 3.7)\n",
      "Parsing section maxpool_0\n",
      "Parsing section convolutional_1\n",
      "conv2d bn leaky (3, 3, 16, 32)\n",
      "Parsing section maxpool_1\n",
      "Parsing section convolutional_2\n",
      "conv2d bn leaky (3, 3, 32, 64)\n",
      "Parsing section maxpool_2\n",
      "Parsing section convolutional_3\n",
      "conv2d bn leaky (3, 3, 64, 128)\n",
      "Parsing section maxpool_3\n",
      "Parsing section convolutional_4\n",
      "conv2d bn leaky (3, 3, 128, 256)\n",
      "Parsing section maxpool_4\n",
      "Parsing section convolutional_5\n",
      "conv2d bn leaky (3, 3, 256, 512)\n",
      "Parsing section maxpool_5\n",
      "Parsing section convolutional_6\n",
      "conv2d bn leaky (3, 3, 512, 1024)\n",
      "Parsing section convolutional_7\n",
      "conv2d bn leaky (1, 1, 1024, 256)\n",
      "Parsing section convolutional_8\n",
      "conv2d bn leaky (3, 3, 256, 512)\n",
      "Parsing section convolutional_9\n",
      "conv2d    linear (1, 1, 512, 255)\n",
      "Parsing section yolo_0\n",
      "Parsing section route_0\n",
      "Parsing section convolutional_10\n",
      "conv2d bn leaky (1, 1, 256, 128)\n",
      "Parsing section upsample_0\n",
      "Parsing section route_1\n",
      "Concatenating route layers: [<tf.Tensor 'up_sampling2d_1/ResizeNearestNeighbor:0' shape=(?, ?, ?, 128) dtype=float32>, <tf.Tensor 'leaky_re_lu_5/LeakyRelu:0' shape=(?, ?, ?, 256) dtype=float32>]\n",
      "Parsing section convolutional_11\n",
      "conv2d bn leaky (3, 3, 384, 256)\n",
      "Parsing section convolutional_12\n",
      "conv2d    linear (1, 1, 256, 30)\n",
      "Parsing section yolo_1\n",
      "__________________________________________________________________________________________________\n",
      "Layer (type)                    Output Shape         Param #     Connected to                     \n",
      "==================================================================================================\n",
      "input_1 (InputLayer)            (None, None, None, 3 0                                            \n",
      "__________________________________________________________________________________________________\n",
      "conv2d_1 (Conv2D)               (None, None, None, 1 432         input_1[0][0]                    \n",
      "__________________________________________________________________________________________________\n",
      "batch_normalization_1 (BatchNor (None, None, None, 1 64          conv2d_1[0][0]                   \n",
      "__________________________________________________________________________________________________\n",
      "leaky_re_lu_1 (LeakyReLU)       (None, None, None, 1 0           batch_normalization_1[0][0]      \n",
      "__________________________________________________________________________________________________\n",
      "max_pooling2d_1 (MaxPooling2D)  (None, None, None, 1 0           leaky_re_lu_1[0][0]              \n",
      "__________________________________________________________________________________________________\n",
      "conv2d_2 (Conv2D)               (None, None, None, 3 4608        max_pooling2d_1[0][0]            \n",
      "__________________________________________________________________________________________________\n",
      "batch_normalization_2 (BatchNor (None, None, None, 3 128         conv2d_2[0][0]                   \n",
      "__________________________________________________________________________________________________\n",
      "leaky_re_lu_2 (LeakyReLU)       (None, None, None, 3 0           batch_normalization_2[0][0]      \n",
      "__________________________________________________________________________________________________\n",
      "max_pooling2d_2 (MaxPooling2D)  (None, None, None, 3 0           leaky_re_lu_2[0][0]              \n",
      "__________________________________________________________________________________________________\n",
      "conv2d_3 (Conv2D)               (None, None, None, 6 18432       max_pooling2d_2[0][0]            \n",
      "__________________________________________________________________________________________________\n",
      "batch_normalization_3 (BatchNor (None, None, None, 6 256         conv2d_3[0][0]                   \n",
      "__________________________________________________________________________________________________\n",
      "leaky_re_lu_3 (LeakyReLU)       (None, None, None, 6 0           batch_normalization_3[0][0]      \n",
      "__________________________________________________________________________________________________\n",
      "max_pooling2d_3 (MaxPooling2D)  (None, None, None, 6 0           leaky_re_lu_3[0][0]              \n",
      "__________________________________________________________________________________________________\n",
      "conv2d_4 (Conv2D)               (None, None, None, 1 73728       max_pooling2d_3[0][0]            \n",
      "__________________________________________________________________________________________________\n",
      "batch_normalization_4 (BatchNor (None, None, None, 1 512         conv2d_4[0][0]                   \n",
      "__________________________________________________________________________________________________\n",
      "leaky_re_lu_4 (LeakyReLU)       (None, None, None, 1 0           batch_normalization_4[0][0]      \n",
      "__________________________________________________________________________________________________\n",
      "max_pooling2d_4 (MaxPooling2D)  (None, None, None, 1 0           leaky_re_lu_4[0][0]              \n",
      "__________________________________________________________________________________________________\n",
      "conv2d_5 (Conv2D)               (None, None, None, 2 294912      max_pooling2d_4[0][0]            \n",
      "__________________________________________________________________________________________________\n",
      "batch_normalization_5 (BatchNor (None, None, None, 2 1024        conv2d_5[0][0]                   \n",
      "__________________________________________________________________________________________________\n",
      "leaky_re_lu_5 (LeakyReLU)       (None, None, None, 2 0           batch_normalization_5[0][0]      \n",
      "__________________________________________________________________________________________________\n",
      "max_pooling2d_5 (MaxPooling2D)  (None, None, None, 2 0           leaky_re_lu_5[0][0]              \n",
      "__________________________________________________________________________________________________\n",
      "conv2d_6 (Conv2D)               (None, None, None, 5 1179648     max_pooling2d_5[0][0]            \n",
      "__________________________________________________________________________________________________\n",
      "batch_normalization_6 (BatchNor (None, None, None, 5 2048        conv2d_6[0][0]                   \n",
      "__________________________________________________________________________________________________\n",
      "leaky_re_lu_6 (LeakyReLU)       (None, None, None, 5 0           batch_normalization_6[0][0]      \n",
      "__________________________________________________________________________________________________\n",
      "max_pooling2d_6 (MaxPooling2D)  (None, None, None, 5 0           leaky_re_lu_6[0][0]              \n",
      "__________________________________________________________________________________________________\n",
      "conv2d_7 (Conv2D)               (None, None, None, 1 4718592     max_pooling2d_6[0][0]            \n",
      "__________________________________________________________________________________________________\n",
      "batch_normalization_7 (BatchNor (None, None, None, 1 4096        conv2d_7[0][0]                   \n",
      "__________________________________________________________________________________________________\n",
      "leaky_re_lu_7 (LeakyReLU)       (None, None, None, 1 0           batch_normalization_7[0][0]      \n",
      "__________________________________________________________________________________________________\n",
      "conv2d_8 (Conv2D)               (None, None, None, 2 262144      leaky_re_lu_7[0][0]              \n",
      "__________________________________________________________________________________________________\n",
      "batch_normalization_8 (BatchNor (None, None, None, 2 1024        conv2d_8[0][0]                   \n",
      "__________________________________________________________________________________________________\n",
      "leaky_re_lu_8 (LeakyReLU)       (None, None, None, 2 0           batch_normalization_8[0][0]      \n",
      "__________________________________________________________________________________________________\n",
      "conv2d_11 (Conv2D)              (None, None, None, 1 32768       leaky_re_lu_8[0][0]              \n",
      "__________________________________________________________________________________________________\n",
      "batch_normalization_10 (BatchNo (None, None, None, 1 512         conv2d_11[0][0]                  \n",
      "__________________________________________________________________________________________________\n",
      "leaky_re_lu_10 (LeakyReLU)      (None, None, None, 1 0           batch_normalization_10[0][0]     \n",
      "__________________________________________________________________________________________________\n",
      "up_sampling2d_1 (UpSampling2D)  (None, None, None, 1 0           leaky_re_lu_10[0][0]             \n",
      "__________________________________________________________________________________________________\n",
      "concatenate_1 (Concatenate)     (None, None, None, 3 0           up_sampling2d_1[0][0]            \n",
      "                                                                 leaky_re_lu_5[0][0]              \n",
      "__________________________________________________________________________________________________\n",
      "conv2d_9 (Conv2D)               (None, None, None, 5 1179648     leaky_re_lu_8[0][0]              \n",
      "__________________________________________________________________________________________________\n",
      "conv2d_12 (Conv2D)              (None, None, None, 2 884736      concatenate_1[0][0]              \n",
      "__________________________________________________________________________________________________\n",
      "batch_normalization_9 (BatchNor (None, None, None, 5 2048        conv2d_9[0][0]                   \n",
      "__________________________________________________________________________________________________\n",
      "batch_normalization_11 (BatchNo (None, None, None, 2 1024        conv2d_12[0][0]                  \n",
      "__________________________________________________________________________________________________\n",
      "leaky_re_lu_9 (LeakyReLU)       (None, None, None, 5 0           batch_normalization_9[0][0]      \n",
      "__________________________________________________________________________________________________\n",
      "leaky_re_lu_11 (LeakyReLU)      (None, None, None, 2 0           batch_normalization_11[0][0]     \n",
      "__________________________________________________________________________________________________\n",
      "conv2d_10 (Conv2D)              (None, None, None, 2 130815      leaky_re_lu_9[0][0]              \n",
      "__________________________________________________________________________________________________\n",
      "conv2d_13 (Conv2D)              (None, None, None, 3 7710        leaky_re_lu_11[0][0]             \n",
      "==================================================================================================\n",
      "Total params: 8,800,909\n",
      "Trainable params: 8,794,541\n",
      "Non-trainable params: 6,368\n",
      "__________________________________________________________________________________________________\n",
      "None\n",
      "Saved Keras weights to model_data/tiny_yolo_weights.h5\n",
      "Read 8800909 of 8858734.0 from Darknet weights.\n",
      "Warning: 57825.0 unused weights\n"
     ]
    }
   ],
   "source": [
    "!python convert.py -w yolov3_tiny-1c.cfg yolov3-tiny.weights model_data/tiny_yolo_weights.h5"
   ]
  },
  {
   "cell_type": "code",
   "execution_count": 0,
   "metadata": {
    "id": "sdwQ1QquOeGf",
    "colab_type": "code",
    "outputId": "73e21dad-7af7-4ea5-9bde-da1b358c79db",
    "colab": {
     "resources": {
      "http://localhost:8080/nbextensions/google.colab/files.js": {
       "data": "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",
       "ok": true,
       "headers": [
        [
         "content-type",
         "application/javascript"
        ]
       ],
       "status": 200.0,
       "status_text": ""
      }
     },
     "base_uri": "https://localhost:8080/",
     "height": 111.0
    }
   },
   "outputs": [
    {
     "data": {
      "text/html": [
       "\n",
       "     <input type=\"file\" id=\"files-aae00149-9809-47b3-879d-2c92967b80d6\" name=\"files[]\" multiple disabled />\n",
       "     <output id=\"result-aae00149-9809-47b3-879d-2c92967b80d6\">\n",
       "      Upload widget is only available when the cell has been executed in the\n",
       "      current browser session. Please rerun this cell to enable.\n",
       "      </output>\n",
       "      <script src=\"/nbextensions/google.colab/files.js\"></script> "
      ],
      "text/plain": [
       "<IPython.core.display.HTML object>"
      ]
     },
     "metadata": {
      "tags": []
     },
     "output_type": "execute_result"
    },
    {
     "name": "stdout",
     "output_type": "stream",
     "text": [
      "Saving train.txt to train (2).txt\n"
     ]
    },
    {
     "data": {
      "text/plain": [
       "{'train.txt': b'dataset/train/20180522_173415_150frames_0_left.jpg 356,152,407,180,0 233,126,256,156,0 227,174,252,200,0 252,130,279,151,0 \\r\\ndataset/train/20180522_173415_150frames_0_right.jpg 40,154,76,179,0 \\r\\ndataset/train/20180522_173415_150frames_1_right.jpg 10,23,36,56,0 13,79,38,111,0 33,157,61,181,0 125,178,147,196,0 \\r\\ndataset/train/20180522_173415_150frames_2_left.jpg 315,60,351,95,0 290,94,325,124,0 277,120,312,147,0 243,116,279,144,0 215,132,243,152,0 101,42,147,66,0 314,64,351,95,0 95,39,150,64,0 292,97,325,125,0 271,121,312,147,0 211,134,244,155,0 245,117,281,142,0 260,148,289,183,0 213,167,235,192,0 224,157,247,182,0 \\r\\ndataset/train/20180522_173415_150frames_2_right.jpg 1,66,27,96,0 \\r\\ndataset/train/20180522_173523_150frames_0_right.jpg 150,55,189,89,0 347,109,408,164,0 113,272,149,325,0 160,244,205,293,0 \\r\\ndataset/train/20180522_173523_150frames_1_left.jpg 381,261,415,306,0 369,301,397,340,0 335,295,371,330,0 \\r\\ndataset/train/20180522_173523_150frames_1_right.jpg 54,264,94,303,0 19,300,50,334,0 43,302,71,340,0 108,288,131,320,0 131,282,159,318,0 158,303,180,340,0 131,312,154,336,0 \\r\\ndataset/train/20180522_173523_150frames_2_left.jpg 387,299,411,332,0 \\r\\ndataset/train/20180522_173523_150frames_2_right.jpg 74,71,107,119,0 195,15,228,53,0 164,172,197,215,0 142,256,179,298,0 238,302,286,336,0 281,296,324,327,0 357,248,391,296,0 147,309,185,344,0 58,297,90,333,0 \\r\\ndataset/train/20180522_173523_150frames_3_left.jpg 232,67,270,124,0 351,110,401,149,0 357,226,394,270,0 326,264,354,300,0 308,291,346,319,0 360,296,397,330,0 \\r\\ndataset/train/20180522_173523_150frames_3_right.jpg 40,229,74,270,0 4,264,34,301,0 33,112,80,154,0 154,124,191,167,0 121,172,150,225,0 76,269,104,322,0 35,295,78,332,0 119,260,150,304,0 99,276,123,314,0 139,292,163,331,0 230,212,267,255,0 263,295,295,340,0 310,301,356,340,0 364,240,398,282,0 \\r\\ndataset/train/20180522_173632_150frames_0_left.jpg 351,183,365,201,0 327,196,339,217,0 341,232,361,249,0 379,71,393,89,0 371,225,383,243,0 380,233,394,250,0 \\r\\ndataset/train/20180522_173632_150frames_0_right.jpg 151,122,166,141,0 51,72,69,88,0 18,231,37,252,0 26,180,40,201,0 73,208,93,224,0 76,224,96,244,0 \\r\\ndataset/train/20180522_173632_150frames_1_left.jpg 315,229,336,242,0 293,248,311,264,0 \\r\\ndataset/train/20180522_173632_150frames_1_right.jpg 91,184,110,208,0 \\r\\ndataset/train/20180522_173632_150frames_2_left.jpg 335,214,347,231,0 402,103,417,129,0 380,202,389,220,0 352,228,361,242,0 348,242,365,251,0 \\r\\ndataset/train/20180522_173733_150frames_0_left.jpg 117,223,147,244,0 290,184,318,217,0 331,153,347,188,0 353,153,371,188,0 233,19,259,64,0 291,22,311,50,0 355,153,373,184,0 371,139,401,165,0 387,156,413,188,0 387,219,407,246,0 \\r\\ndataset/train/20180522_173733_150frames_0_right.jpg 9,155,26,189,0 29,153,50,190,0 44,139,80,164,0 64,160,96,186,0 59,221,83,241,0 79,220,100,244,0 105,220,131,244,0 134,168,157,212,0 350,36,395,72,0 \\r\\ndataset/train/20180522_173733_150frames_1_left.jpg 129,182,171,206,0 220,228,259,257,0 245,199,284,225,0 335,218,373,245,0 350,168,371,198,0 348,148,383,167,0 371,164,403,185,0 403,175,423,208,0 \\r\\ndataset/train/20180522_173733_150frames_1_right.jpg 27,167,45,200,0 16,219,51,246,0 56,240,94,268,0 111,229,145,252,0 131,241,163,272,0 111,194,139,230,0 103,158,137,184,0 73,173,103,212,0 47,163,78,184,0 \\r\\ndataset/train/20180522_173733_150frames_2_left.jpg 251,31,287,70,0 131,190,175,222,0 245,176,282,205,0 328,194,363,232,0 258,244,298,265,0 325,229,360,252,0 388,188,416,225,0 360,122,387,153,0 363,160,401,183,0 384,243,415,268,0 \\r\\ndataset/train/20180522_173733_150frames_2_right.jpg 109,172,132,210,0 66,189,96,225,0 7,198,34,229,0 3,227,44,252,0 61,242,91,265,0 89,240,120,263,0 123,228,151,259,0 190,183,231,216,0 283,224,334,256,0 321,197,363,224,0 \\r\\ndataset/train/20180522_173733_150frames_3_left.jpg 135,197,170,228,0 16,219,42,248,0 154,234,186,266,0 244,162,280,191,0 338,172,378,201,0 347,253,368,271,0 \\r\\ndataset/train/20180522_173733_150frames_3_right.jpg 128,108,171,130,0 229,138,251,177,0 14,160,35,200,0 20,252,50,278,0 79,237,103,272,0 120,204,159,240,0 185,198,215,231,0 119,240,147,267,0 178,245,212,272,0 235,252,267,274,0 \\r\\ndataset/train/20180522_173912_150frames_0_left.jpg 356,200,383,236,0 307,248,339,281,0 326,292,373,327,0 355,324,391,351,0 317,342,337,375,0 352,356,371,388,0 \\r\\ndataset/train/20180522_173912_150frames_0_right.jpg 34,201,58,236,0 6,291,48,328,0 33,324,67,347,0 24,357,49,391,0 91,363,133,391,0 142,363,177,389,0 \\r\\ndataset/train/20180522_173912_150frames_1_left.jpg 30,146,75,178,0 275,132,320,168,0 296,240,324,292,0 359,295,397,328,0 301,340,326,375,0 323,346,346,379,0 360,370,389,395,0 330,377,363,396,0 400,332,423,365,0 \\r\\ndataset/train/20180522_173912_150frames_1_right.jpg 36,297,72,326,0 1,350,15,377,0 72,334,98,366,0 35,372,69,399,0 3,375,36,400,0 109,337,131,368,0 128,332,152,364,0 147,337,169,378,0 138,372,175,400,0 \\r\\ndataset/train/20180522_173912_150frames_2_left.jpg 60,107,100,137,0 294,212,328,236,0 341,317,367,353,0 319,352,353,374,0 363,349,400,377,0 \\r\\ndataset/train/20180522_173912_150frames_2_right.jpg 142,313,165,348,0 84,323,107,358,0 17,320,44,352,0 0,352,29,376,0 39,352,75,374,0 96,374,131,396,0 134,372,161,400,0 158,373,188,404,0 \\r\\ndataset/train/20180522_173912_150frames_3_left.jpg 347,252,379,280,0 299,281,334,320,0 289,338,317,372,0 308,325,329,358,0 327,317,355,353,0 331,359,363,382,0 \\r\\ndataset/train/20180522_173912_150frames_3_right.jpg 23,256,60,280,0 1,316,34,356,0 5,359,38,382,0 37,381,73,402,0 148,316,189,342,0 131,343,162,376,0 95,350,138,377,0 \\r\\ndataset/train/20180522_173912_150frames_4_left.jpg 342,36,390,84,0 332,353,355,379,0 351,352,371,381,0 370,348,393,378,0 \\r\\ndataset/train/20180522_173912_150frames_4_right.jpg 195,61,222,100,0 19,38,66,81,0 176,260,206,289,0 110,323,137,360,0 80,329,107,367,0 10,351,31,385,0 28,352,47,382,0 52,348,72,379,0 \\r\\ndataset/train/20180522_174140_150frames_0_left.jpg 51,156,105,219,0 359,158,405,197,0 \\r\\ndataset/train/20180522_174140_150frames_0_right.jpg 40,164,67,183,0 198,237,236,274,0 171,210,203,249,0 151,191,188,219,0 171,154,199,195,0 103,161,135,208,0 155,115,192,155,0 \\r\\ndataset/train/20180522_174140_150frames_1_left.jpg 172,317,211,354,0 274,368,310,406,0 355,158,415,196,0 373,208,400,245,0 \\r\\ndataset/train/20180522_174140_150frames_1_right.jpg 47,212,78,250,0 86,245,127,288,0 87,294,118,331,0 63,347,109,388,0 226,348,277,392,0 198,246,246,295,0 101,184,135,212,0 104,201,138,236,0 72,183,103,215,0 26,160,96,196,0 \\r\\ndataset/train/20180522_174140_150frames_2_right.jpg 199,284,249,339,0 206,332,262,372,0 156,175,197,232,0 174,154,218,204,0 126,155,161,200,0 149,126,195,157,0 45,147,102,180,0 \\r\\ndataset/train/20180522_174140_150frames_3_left.jpg 310,308,355,358,0 270,268,315,333,0 354,194,383,228,0 340,154,377,180,0 \\r\\ndataset/train/20180522_174140_150frames_3_right.jpg 223,289,258,340,0 1,311,28,360,0 102,230,138,286,0 129,216,166,252,0 103,165,138,204,0 26,196,59,223,0 211,95,280,134,0 \\r\\ndataset/train/20180522_174140_150frames_4_left.jpg 349,220,375,251,0 317,167,357,192,0 335,191,365,212,0 \\r\\ndataset/train/20180522_174140_150frames_4_right.jpg 222,300,269,355,0 144,258,187,292,0 27,215,52,249,0 12,192,43,208,0 3,169,34,192,0 79,161,127,196,0 123,141,159,188,0 156,184,199,222,0 193,119,235,158,0 229,140,280,189,0 \\r\\ndataset/train/20180522_174229_150frames_0_left.jpg 376,134,408,156,0 374,164,395,184,0 371,179,388,197,0 329,182,353,206,0 386,272,403,292,0 396,172,412,200,0 \\r\\ndataset/train/20180522_174229_150frames_0_right.jpg 121,152,147,173,0 58,131,84,155,0 73,157,103,176,0 7,182,27,203,0 89,179,113,198,0 79,193,104,208,0 93,218,108,243,0 107,236,139,255,0 110,264,127,290,0 58,272,83,292,0 125,280,145,311,0 \\r\\ndataset/train/20180522_174229_150frames_1_left.jpg 351,141,370,166,0 328,157,351,172,0 314,171,335,186,0 349,170,370,186,0 350,185,371,204,0 332,181,353,194,0 331,202,359,225,0 372,178,391,199,0 397,166,418,192,0 364,210,386,232,0 398,208,413,232,0 \\r\\ndataset/train/20180522_174229_150frames_1_right.jpg 29,142,48,169,0 5,155,31,172,0 26,170,45,186,0 11,197,35,228,0 27,182,43,203,0 45,179,69,203,0 72,168,99,198,0 108,176,141,194,0 73,210,96,235,0 111,272,137,299,0 97,216,115,245,0 110,209,131,240,0 \\r\\ndataset/train/20180522_174356_150frames_0_left.jpg 307,207,333,236,0 \\r\\ndataset/train/20180522_174356_150frames_0_right.jpg 139,118,165,147,0 77,103,104,133,0 91,138,126,160,0 133,165,164,193,0 93,218,120,238,0 108,260,133,284,0 174,272,202,304,0 222,247,243,276,0 313,336,337,366,0 \\r\\ndataset/train/20180522_174356_150frames_1_left.jpg 241,124,270,149,0 376,227,394,246,0 387,200,403,227,0 \\r\\ndataset/train/20180522_174356_150frames_1_right.jpg 225,236,255,260,0 362,255,392,285,0 96,200,113,227,0 82,185,101,208,0 52,222,71,251,0 \\r\\ndataset/train/20180522_174356_150frames_2_left.jpg 313,214,338,240,0 365,192,391,212,0 369,212,394,236,0 393,252,413,280,0 \\r\\ndataset/train/20180522_174356_150frames_2_right.jpg 219,78,243,104,0 170,156,195,184,0 247,176,276,204,0 36,192,71,214,0 41,214,72,236,0 67,253,93,279,0 \\r\\ndataset/train/DSCN9949_150frames_0_left.jpg 183,244,255,304,0 241,285,307,368,0 334,300,403,383,0 \\r\\ndataset/train/DSCN9949_150frames_0_right.jpg 158,314,266,390,0 13,298,70,384,0 \\r\\ndataset/train/DSCN9949_150frames_10_left.jpg 223,288,303,361,0 \\r\\ndataset/train/DSCN9949_150frames_10_right.jpg 163,88,221,175,0 \\r\\ndataset/train/DSCN9949_150frames_11_left.jpg 117,364,217,415,0 \\r\\ndataset/train/DSCN9949_150frames_11_right.jpg 225,340,298,417,0 301,333,362,409,0 \\r\\ndataset/train/DSCN9949_150frames_12_left.jpg 207,338,289,388,0 \\r\\ndataset/train/DSCN9949_150frames_12_right.jpg 286,110,353,176,0 \\r\\ndataset/train/DSCN9949_150frames_1_left.jpg 262,297,360,359,0 374,296,425,382,0 \\r\\ndataset/train/DSCN9949_150frames_1_right.jpg 175,274,255,337,0 55,299,129,380,0 1,308,40,365,0 116,338,224,387,0 \\r\\ndataset/train/DSCN9949_150frames_2_left.jpg 171,302,237,385,0 \\r\\ndataset/train/DSCN9949_150frames_2_right.jpg 283,14,347,101,0 176,209,251,282,0 234,249,307,300,0 217,298,317,345,0 216,337,319,388,0 \\r\\ndataset/train/DSCN9949_150frames_3_left.jpg 323,333,402,379,0 \\r\\ndataset/train/DSCN9949_150frames_3_right.jpg 120,140,211,213,0 173,292,258,381,0 131,343,219,416,0 1,332,83,375,0 309,379,414,419,0 \\r\\ndataset/train/DSCN9949_150frames_4_right.jpg 7,285,60,321,0 \\r\\ndataset/train/DSCN9949_150frames_5_left.jpg 134,237,178,268,0 \\r\\ndataset/train/DSCN9949_150frames_5_right.jpg 166,234,201,269,0 121,255,163,277,0 \\r\\ndataset/train/DSCN9949_150frames_6_right.jpg 278,141,362,240,0 \\r\\ndataset/train/DSCN9950_150frames_0_right.jpg 143,73,205,146,0 \\r\\ndataset/train/DSCN9950_150frames_10_left.jpg 127,299,191,348,0 95,315,134,348,0 19,310,79,345,0 \\r\\ndataset/train/DSCN9950_150frames_10_right.jpg 205,296,263,343,0 275,310,319,337,0 \\r\\ndataset/train/DSCN9950_150frames_11_left.jpg 203,308,283,354,0 83,300,147,352,0 287,291,331,348,0 \\r\\ndataset/train/DSCN9950_150frames_11_right.jpg 273,318,355,356,0 \\r\\ndataset/train/DSCN9950_150frames_1_right.jpg 359,287,403,321,0 \\r\\ndataset/train/DSCN9950_150frames_2_right.jpg 331,297,367,343,0 375,288,415,328,0 \\r\\ndataset/train/DSCN9950_150frames_4_left.jpg 42,72,119,119,0 67,207,120,280,0 \\r\\ndataset/train/DSCN9950_150frames_5_left.jpg 127,181,197,242,0 185,118,243,184,0 \\r\\ndataset/train/DSCN9950_150frames_5_right.jpg 78,188,151,269,0 260,273,325,328,0 \\r\\ndataset/train/DSCN9950_150frames_6_left.jpg 171,144,232,218,0 335,116,385,181,0 \\r\\ndataset/train/DSCN9950_150frames_6_right.jpg 13,113,67,177,0 234,276,298,336,0 \\r\\ndataset/train/DSCN9950_150frames_7_left.jpg 170,146,228,214,0 125,252,187,323,0 344,146,410,200,0 63,303,114,337,0 \\r\\ndataset/train/DSCN9950_150frames_7_right.jpg 23,144,83,216,0 143,284,239,329,0 \\r\\ndataset/train/DSCN9950_150frames_8_left.jpg 153,268,229,321,0 52,287,123,329,0 0,288,59,330,0 \\r\\ndataset/train/DSCN9950_150frames_8_right.jpg 112,283,198,325,0 256,282,316,324,0 \\r\\ndataset/train/DSCN9950_150frames_9_left.jpg 102,316,159,365,0 5,319,101,364,0 \\r\\ndataset/train/DSCN9950_150frames_9_right.jpg 166,310,235,360,0 232,314,279,356,0\\r\\ndataset/train/DSCN9951_150frames_0_left.jpg 156,231,224,284,0 \\r\\ndataset/train/DSCN9951_150frames_0_right.jpg 96,243,152,279,0 170,231,240,281,0 \\r\\ndataset/train/DSCN9951_150frames_1_left.jpg 50,215,106,265,0 86,180,142,234,0 \\r\\ndataset/train/DSCN9951_150frames_2_left.jpg 36,200,92,252,0 \\r\\ndataset/train/DSCN9951_150frames_3_left.jpg 26,192,83,241,0 109,182,183,245,0 \\r\\ndataset/train/DSCN9951_150frames_3_right.jpg 109,182,183,245,0 \\r\\ndataset/train/DSCN9951_150frames_4_left.jpg 94,211,139,247,0 240,168,286,221,0 \\r\\ndataset/train/DSCN9951_150frames_4_right.jpg 172,212,236,251,0 \\r\\ndataset/train/DSCN9952_150frames_0_left.jpg 52,190,88,221,0 178,292,226,319,0 239,301,270,321,0 286,299,308,322,0 313,282,342,323,0 351,302,389,323,0 \\r\\ndataset/train/DSCN9952_150frames_0_right.jpg 0,288,21,322,0 28,298,72,323,0 188,262,252,311,0 \\r\\ndataset/train/DSCN9952_150frames_1_left.jpg 45,291,91,330,0 233,276,279,323,0 235,321,268,336,0 258,253,298,286,0 288,259,338,302,0 292,296,338,336,0 \\r\\ndataset/train/DSCN9952_150frames_1_right.jpg 0,274,13,301,0 \\r\\ndataset/train/DSCN9952_150frames_2_left.jpg 44,282,82,333,0 174,258,220,301,0 236,315,263,334,0 \\r\\ndataset/train/DSCN9952_150frames_3_left.jpg 84,306,140,329,0 236,313,266,334,0 356,264,393,316,0 \\r\\ndataset/train/DSCN9952_150frames_3_right.jpg 33,268,72,316,0 \\r\\ndataset/train/DSCN9952_150frames_4_left.jpg 4,308,44,327,0 \\r\\ndataset/train/DSCN9952_150frames_4_right.jpg 359,278,412,328,0 \\r\\ndataset/train/DSCN9954_150frames_1_left.jpg 312,154,350,221,0 210,228,261,273,0 262,221,296,276,0 \\r\\ndataset/train/DSCN9954_150frames_1_right.jpg 1,151,30,220,0 \\r\\ndataset/train/DSCN9954_150frames_2_left.jpg 185,224,228,277,0 230,139,268,197,0 281,281,322,306,0 336,284,378,312,0 381,295,411,323,0 \\r\\ndataset/train/DSCN9954_150frames_2_right.jpg 10,283,53,312,0 56,293,91,318,0 \\r\\ndataset/train/DSCN9954_150frames_3_left.jpg 285,2,334,64,0 280,312,318,370,0 314,341,351,380,0 326,296,362,347,0 352,354,385,386,0 386,359,416,398,0 \\r\\ndataset/train/DSCN9954_150frames_3_right.jpg 2,302,38,348,0 0,340,23,381,0 24,348,63,388,0 60,361,96,396,0 93,357,130,391,0 137,361,171,395,0 \\r\\ndataset/train/DSCN9954_150frames_4_left.jpg 324,278,368,336,0 359,316,401,379,0 \\r\\ndataset/train/DSCN9954_150frames_4_right.jpg 9,272,46,342,0 41,314,75,380,0 72,359,120,397,0 118,336,187,390,0 \\r\\ndataset/train/DSCN9954_150frames_5_left.jpg 278,334,352,377,0 300,290,363,349,0 312,56,356,123,0 \\r\\ndataset/train/DSCN9954_150frames_5_right.jpg 2,48,28,112,0 2,286,33,351,0 104,196,175,279,0 \\r\\ndataset/train/DSCN9954_150frames_6_left.jpg 321,246,367,298,0 298,282,358,344,0 \\r\\ndataset/train/DSCN9954_150frames_6_right.jpg 2,243,44,300,0 2,283,25,351,0 92,288,143,341,0 86,331,150,372,0 143,291,176,363,0 \\r\\ndataset/train/DSCN9955_150frames_10_left.jpg 50,3,109,80,0 346,77,406,156,0 \\r\\ndataset/train/DSCN9955_150frames_10_right.jpg 33,78,80,158,0 88,274,154,342,0 212,292,292,359,0 319,316,365,360,0 \\r\\ndataset/train/DSCN9955_150frames_1_right.jpg 40,340,112,410,0 74,212,164,292,0 104,72,165,146,0 \\r\\ndataset/train/DSCN9955_150frames_2_right.jpg 64,1,102,25,0 136,250,204,336,0 \\r\\ndataset/train/DSCN9955_150frames_3_left.jpg 315,145,388,238,0 \\r\\ndataset/train/DSCN9955_150frames_3_right.jpg 0,146,56,230,0 141,316,224,361,0 \\r\\ndataset/train/DSCN9955_150frames_4_right.jpg 98,299,167,382,0 236,317,303,398,0 \\r\\ndataset/train/DSCN9955_150frames_5_left.jpg 310,300,389,368,0 391,208,424,246,0 \\r\\ndataset/train/DSCN9955_150frames_5_right.jpg 1,308,65,364,0 67,199,146,245,0 \\r\\ndataset/train/DSCN9955_150frames_6_left.jpg 74,298,132,374,0 118,142,175,218,0 220,235,276,320,0 262,282,316,360,0 284,356,351,412,0 \\r\\ndataset/train/DSCN9955_150frames_6_right.jpg 152,357,220,407,0 202,341,248,402,0 162,158,226,257,0 308,67,376,146,0 383,331,419,386,0 \\r\\ndataset/train/DSCN9955_150frames_7_left.jpg 20,190,92,280,0 61,334,124,377,0 120,349,152,379,0 238,120,318,196,0 288,211,350,292,0 338,319,418,387,0 \\r\\ndataset/train/DSCN9955_150frames_7_right.jpg 0,233,24,281,0 15,329,92,389,0 71,278,137,345,0 96,216,166,265,0 300,32,378,102,0 300,82,382,162,0 314,315,386,370,0 \\r\\ndataset/train/DSCN9955_150frames_8_left.jpg 238,317,309,369,0 297,76,368,148,0 \\r\\ndataset/train/DSCN9955_150frames_8_right.jpg 0,76,40,142,0 121,296,182,359,0 135,188,174,252,0 \\r\\ndataset/train/DSCN9955_150frames_9_left.jpg 1,123,52,199,0 240,161,294,239,0 224,263,313,332,0 280,108,352,181,0 \\r\\ndataset/train/DSCN9955_150frames_9_right.jpg 0,109,27,175,0 85,118,140,180,0 136,123,190,183,0 171,294,256,354,0 344,240,400,314,0 371,150,418,224,0 366,286,420,350,0 \\r\\ndataset/train/DSCN9956_150frames_0_right.jpg 143,96,210,152,0 253,37,318,96,0 \\r\\ndataset/train/DSCN9956_150frames_1_right.jpg 148,193,218,250,0 194,108,251,164,0 247,142,305,196,0 279,176,330,243,0 \\r\\ndataset/train/DSCN9956_150frames_2_left.jpg 281,254,338,319,0 \\r\\ndataset/train/DSCN9956_150frames_3_left.jpg 346,148,391,202,0 380,166,420,242,0 \\r\\ndataset/train/DSCN9956_150frames_3_right.jpg 22,154,72,206,0 59,172,103,240,0 90,59,133,108,0 111,98,172,166,0 239,11,302,67,0 \\r\\ndataset/train/DSCN9956_150frames_4_left.jpg 351,184,389,241,0 370,162,410,210,0 \\r\\ndataset/train/DSCN9956_150frames_4_right.jpg 28,182,72,238,0 38,165,88,212,0 121,255,182,315,0 161,142,221,202,0 \\r\\ndataset/train/DSCN9957_150frames_0_left.jpg 12,273,115,354,0 52,346,184,417,0 \\r\\ndataset/train/DSCN9957_150frames_10_left.jpg 210,257,288,308,0 231,196,290,249,0 239,139,281,184,0 \\r\\ndataset/train/DSCN9957_150frames_1_left.jpg 0,132,23,174,0 2,185,25,236,0 \\r\\ndataset/train/DSCN9957_150frames_2_left.jpg 230,133,274,172,0 234,176,290,208,0 \\r\\ndataset/train/DSCN9957_150frames_3_left.jpg 244,127,271,158,0 248,149,301,185,0 255,171,317,216,0 \\r\\ndataset/train/DSCN9957_150frames_3_right.jpg 53,122,80,166,0 \\r\\ndataset/train/DSCN9957_150frames_4_left.jpg 247,160,313,208,0 288,180,336,238,0 301,345,354,417,0 374,49,414,98,0 \\r\\ndataset/train/DSCN9957_150frames_4_right.jpg 0,358,33,415,0 48,53,93,98,0 83,236,152,292,0 158,138,214,177,0 159,25,220,74,0 \\r\\ndataset/train/DSCN9957_150frames_5_left.jpg 244,183,297,236,0 257,120,308,170,0 286,172,346,228,0 344,52,406,92,0 \\r\\ndataset/train/DSCN9957_150frames_5_right.jpg 0,162,24,230,0 23,51,78,94,0 \\r\\ndataset/train/DSCN9957_150frames_6_left.jpg 268,57,312,99,0 268,141,328,221,0 329,195,375,244,0 359,92,408,141,0 \\r\\ndataset/train/DSCN9957_150frames_6_right.jpg 5,197,52,242,0 33,94,90,138,0 192,132,245,165,0 \\r\\ndataset/train/DSCN9957_150frames_7_left.jpg 256,159,309,196,0 274,179,320,221,0 329,7,386,42,0 \\r\\ndataset/train/DSCN9957_150frames_7_right.jpg 10,7,64,43,0 210,274,256,316,0 \\r\\ndataset/train/DSCN9957_150frames_8_left.jpg 240,196,313,242,0 \\r\\ndataset/train/DSCN9957_150frames_8_right.jpg 175,3,248,58,0 340,54,410,100,0 \\r\\ndataset/train/DSCN9957_150frames_9_left.jpg 237,110,279,155,0 \\r\\ndataset/train/DSCN9957_150frames_9_right.jpg 304,35,340,64,0 \\r\\ndataset/train/DSCN9958_150frames_0_left.jpg 374,132,418,174,0 \\r\\ndataset/train/DSCN9958_150frames_0_right.jpg 50,124,106,176,0 133,206,186,246,0 178,230,218,279,0 \\r\\ndataset/train/DSCN9958_150frames_1_left.jpg 354,72,398,118,0 353,192,397,239,0 386,135,419,180,0 \\r\\ndataset/train/DSCN9958_150frames_1_right.jpg 32,69,70,116,0 24,189,70,237,0 63,136,106,182,0 104,156,127,200,0 126,176,152,216,0 \\r\\ndataset/train/DSCN9958_150frames_2_left.jpg 370,110,413,164,0 \\r\\ndataset/train/DSCN9958_150frames_2_right.jpg 48,119,88,160,0 74,86,118,144,0 98,161,134,210,0 116,191,157,242,0 \\r\\ndataset/train/DSCN9958_150frames_4_left.jpg 181,212,236,267,0 327,65,371,117,0 354,110,398,154,0 \\r\\ndataset/train/DSCN9958_150frames_4_right.jpg 5,66,56,111,0 30,113,80,157,0 105,193,148,249,0 \\r\\ndataset/train/DSCN9958_150frames_5_left.jpg 226,169,282,227,0 321,100,352,142,0 340,86,386,147,0 \\r\\ndataset/train/DSCN9958_150frames_5_right.jpg 0,95,30,140,0 20,86,63,144,0 \\r\\ndataset/train/DSCN9958_150frames_6_left.jpg 272,121,321,171,0 316,80,359,126,0 356,127,390,176,0 390,170,416,220,0 \\r\\ndataset/train/DSCN9958_150frames_6_right.jpg 0,74,35,136,0 35,126,72,175,0 73,171,108,222,0 \\r\\ndataset/train/DSCN9958_150frames_7_left.jpg 212,154,255,196,0 \\r\\ndataset/train/DSCN9959_150frames_0_right.jpg 107,138,182,246,0 \\r\\ndataset/train/DSCN9959_150frames_1_left.jpg 107,138,182,246,0 \\r\\ndataset/train/DSCN9959_150frames_1_right.jpg 74,112,142,199,0 58,200,150,286,0 96,161,146,232,0 130,158,194,246,0 \\r\\ndataset/train/DSCN9959_150frames_2_left.jpg 312,175,406,260,0 \\r\\ndataset/train/DSCN9959_150frames_2_right.jpg 0,162,76,256,0 82,164,140,238,0 109,137,190,256,0 \\r\\ndataset/train/DSCN9959_150frames_3_right.jpg 78,156,151,238,0 110,203,197,286,0 \\r\\ndataset/train/DSCN9959_150frames_4_left.jpg 355,10,424,112,0 \\r\\ndataset/train/DSCN9959_150frames_4_right.jpg 44,14,118,116,0 40,230,104,300,0 105,170,200,261,0 \\r\\ndataset/train/DSCN9960_150frames_0_left.jpg 30,285,60,312,0 160,289,194,323,0 137,350,175,383,0 246,118,295,151,0 199,227,243,252,0 215,253,252,287,0 242,298,272,325,0 308,260,340,304,0 319,303,382,348,0 286,331,324,352,0 288,344,323,359,0 341,370,369,401,0 296,384,336,409,0 231,380,273,407,0 342,165,375,185,0 335,264,361,279,0 381,284,411,299,0 371,324,386,348,0 \\r\\ndataset/train/DSCN9960_150frames_0_right.jpg 27,164,50,188,0 12,259,38,282,0 8,298,58,351,0 4,370,46,399,0 58,283,85,298,0 91,256,122,281,0 47,326,66,342,0 82,333,106,348,0 88,352,119,367,0 126,308,149,332,0 118,332,139,353,0 148,354,164,370,0 \\r\\ndataset/train/DSCN9960_150frames_1_left.jpg 90,34,134,70,0 173,40,213,67,0 290,56,325,82,0 315,120,340,153,0 315,120,340,152,0 362,92,408,122,0 \\r\\ndataset/train/DSCN9960_150frames_1_right.jpg 1,120,22,150,0 43,89,86,120,0 128,46,154,72,0 132,68,158,97,0 149,101,169,136,0 149,101,168,136,0 137,170,167,196,0 145,192,175,226,0 170,181,190,212,0 184,245,209,290,0\\r\\n'}"
      ]
     },
     "execution_count": 10,
     "metadata": {
      "tags": []
     },
     "output_type": "execute_result"
    }
   ],
   "source": [
    "from google.colab import files\n",
    "files.upload()"
   ]
  },
  {
   "cell_type": "code",
   "execution_count": 0,
   "metadata": {
    "id": "A44HugmBrJx2",
    "colab_type": "code",
    "outputId": "c836eaa2-f659-4147-85cf-fd6a6d3cc2b9",
    "colab": {
     "base_uri": "https://localhost:8080/",
     "height": 69.0
    }
   },
   "outputs": [
    {
     "name": "stdout",
     "output_type": "stream",
     "text": [
      "bee.ipynb   main.py\ttrain.txt\t   yolov3_tiny-1c.cfg\n",
      "convert.py  model_data\tvoc_annotation.py  yolov3-tiny.cfg\n",
      "dataset     train.py\tyolo3\t\t   yolov3-tiny.weights\n"
     ]
    }
   ],
   "source": [
    "!ls"
   ]
  },
  {
   "cell_type": "code",
   "execution_count": 0,
   "metadata": {
    "id": "_iUQgfOSUz_G",
    "colab_type": "code",
    "outputId": "7ec3b5ca-39bf-43c7-90a6-b3ebedde51d3",
    "colab": {
     "base_uri": "https://localhost:8080/",
     "height": 3241.0
    }
   },
   "outputs": [
    {
     "name": "stdout",
     "output_type": "stream",
     "text": [
      "20180522_173415_150frames_0_left.jpg   DSCN9957_150frames_10_left.jpg\n",
      "20180522_173415_150frames_0_right.jpg  DSCN9957_150frames_10_right.jpg\n",
      "20180522_173415_150frames_1_left.jpg   DSCN9957_150frames_1_left.jpg\n",
      "20180522_173415_150frames_1_right.jpg  DSCN9957_150frames_1_right.jpg\n",
      "20180522_173415_150frames_2_left.jpg   DSCN9957_150frames_2_left.jpg\n",
      "20180522_173415_150frames_2_right.jpg  DSCN9957_150frames_2_right.jpg\n",
      "20180522_173523_150frames_0_left.jpg   DSCN9957_150frames_3_left.jpg\n",
      "20180522_173523_150frames_0_right.jpg  DSCN9957_150frames_3_right.jpg\n",
      "20180522_173523_150frames_1_left.jpg   DSCN9957_150frames_4_left.jpg\n",
      "20180522_173523_150frames_1_right.jpg  DSCN9957_150frames_4_right.jpg\n",
      "20180522_173523_150frames_2_left.jpg   DSCN9957_150frames_5_left.jpg\n",
      "20180522_173523_150frames_2_right.jpg  DSCN9957_150frames_5_right.jpg\n",
      "20180522_173523_150frames_3_left.jpg   DSCN9957_150frames_6_left.jpg\n",
      "20180522_173523_150frames_3_right.jpg  DSCN9957_150frames_6_right.jpg\n",
      "20180522_173632_150frames_0_left.jpg   DSCN9957_150frames_7_left.jpg\n",
      "20180522_173632_150frames_0_right.jpg  DSCN9957_150frames_7_right.jpg\n",
      "20180522_173632_150frames_1_left.jpg   DSCN9957_150frames_8_left.jpg\n",
      "20180522_173632_150frames_1_right.jpg  DSCN9957_150frames_8_right.jpg\n",
      "20180522_173632_150frames_2_left.jpg   DSCN9957_150frames_9_left.jpg\n",
      "20180522_173632_150frames_2_right.jpg  DSCN9957_150frames_9_right.jpg\n",
      "20180522_173632_150frames_3_left.jpg   DSCN9958_150frames_0_left.jpg\n",
      "20180522_173632_150frames_3_right.jpg  DSCN9958_150frames_0_right.jpg\n",
      "20180522_173632_150frames_4_left.jpg   DSCN9958_150frames_1_left.jpg\n",
      "20180522_173632_150frames_4_right.jpg  DSCN9958_150frames_1_right.jpg\n",
      "20180522_173733_150frames_0_left.jpg   DSCN9958_150frames_2_left.jpg\n",
      "20180522_173733_150frames_0_right.jpg  DSCN9958_150frames_2_right.jpg\n",
      "20180522_173733_150frames_1_left.jpg   DSCN9958_150frames_3_left.jpg\n",
      "20180522_173733_150frames_1_right.jpg  DSCN9958_150frames_3_right.jpg\n",
      "20180522_173733_150frames_2_left.jpg   DSCN9958_150frames_4_left.jpg\n",
      "20180522_173733_150frames_2_right.jpg  DSCN9958_150frames_4_right.jpg\n",
      "20180522_173733_150frames_3_left.jpg   DSCN9958_150frames_5_left.jpg\n",
      "20180522_173733_150frames_3_right.jpg  DSCN9958_150frames_5_right.jpg\n",
      "20180522_173804_150frames_0_left.jpg   DSCN9958_150frames_6_left.jpg\n",
      "20180522_173804_150frames_0_right.jpg  DSCN9958_150frames_6_right.jpg\n",
      "20180522_173804_150frames_1_left.jpg   DSCN9958_150frames_7_left.jpg\n",
      "20180522_173804_150frames_1_right.jpg  DSCN9958_150frames_7_right.jpg\n",
      "20180522_173912_150frames_0_left.jpg   DSCN9959_150frames_0_left.jpg\n",
      "20180522_173912_150frames_0_right.jpg  DSCN9959_150frames_0_right.jpg\n",
      "20180522_173912_150frames_1_left.jpg   DSCN9959_150frames_1_left.jpg\n",
      "20180522_173912_150frames_1_right.jpg  DSCN9959_150frames_1_right.jpg\n",
      "20180522_173912_150frames_2_left.jpg   DSCN9959_150frames_2_left.jpg\n",
      "20180522_173912_150frames_2_right.jpg  DSCN9959_150frames_2_right.jpg\n",
      "20180522_173912_150frames_3_left.jpg   DSCN9959_150frames_3_left.jpg\n",
      "20180522_173912_150frames_3_right.jpg  DSCN9959_150frames_3_right.jpg\n",
      "20180522_173912_150frames_4_left.jpg   DSCN9959_150frames_4_left.jpg\n",
      "20180522_173912_150frames_4_right.jpg  DSCN9959_150frames_4_right.jpg\n",
      "20180522_174140_150frames_0_left.jpg   DSCN9959_150frames_5_left.jpg\n",
      "20180522_174140_150frames_0_right.jpg  DSCN9959_150frames_5_right.jpg\n",
      "20180522_174140_150frames_1_left.jpg   DSCN9959_150frames_6_left.jpg\n",
      "20180522_174140_150frames_1_right.jpg  DSCN9959_150frames_6_right.jpg\n",
      "20180522_174140_150frames_2_left.jpg   DSCN9960_150frames_0_left.jpg\n",
      "20180522_174140_150frames_2_right.jpg  DSCN9960_150frames_0_right.jpg\n",
      "20180522_174140_150frames_3_left.jpg   DSCN9960_150frames_1_left.jpg\n",
      "20180522_174140_150frames_3_right.jpg  DSCN9960_150frames_1_right.jpg\n",
      "20180522_174140_150frames_4_left.jpg   img0000.jpg\n",
      "20180522_174140_150frames_4_right.jpg  img0001.jpg\n",
      "20180522_174229_150frames_0_left.jpg   img0002.jpg\n",
      "20180522_174229_150frames_0_right.jpg  img0003.jpg\n",
      "20180522_174229_150frames_1_left.jpg   img0004.jpg\n",
      "20180522_174229_150frames_1_right.jpg  img0005.jpg\n",
      "20180522_174356_150frames_0_left.jpg   img0006.jpg\n",
      "20180522_174356_150frames_0_right.jpg  img0007.jpg\n",
      "20180522_174356_150frames_1_left.jpg   img0008.jpg\n",
      "20180522_174356_150frames_1_right.jpg  img0009.jpg\n",
      "20180522_174356_150frames_2_left.jpg   img0010.jpg\n",
      "20180522_174356_150frames_2_right.jpg  img0011.jpg\n",
      "DSCN9949_150frames_0_left.jpg\t       img0012.jpg\n",
      "DSCN9949_150frames_0_right.jpg\t       img0013.jpg\n",
      "DSCN9949_150frames_10_left.jpg\t       img0014.jpg\n",
      "DSCN9949_150frames_10_right.jpg        img0015.jpg\n",
      "DSCN9949_150frames_11_left.jpg\t       img0016.jpg\n",
      "DSCN9949_150frames_11_right.jpg        img0017.jpg\n",
      "DSCN9949_150frames_12_left.jpg\t       img0018.jpg\n",
      "DSCN9949_150frames_12_right.jpg        img0019.jpg\n",
      "DSCN9949_150frames_1_left.jpg\t       img0020.jpg\n",
      "DSCN9949_150frames_1_right.jpg\t       img0021.jpg\n",
      "DSCN9949_150frames_2_left.jpg\t       img0022.jpg\n",
      "DSCN9949_150frames_2_right.jpg\t       img0023.jpg\n",
      "DSCN9949_150frames_3_left.jpg\t       img0024.jpg\n",
      "DSCN9949_150frames_3_right.jpg\t       img0025.jpg\n",
      "DSCN9949_150frames_4_left.jpg\t       img0026.jpg\n",
      "DSCN9949_150frames_4_right.jpg\t       img0027.jpg\n",
      "DSCN9949_150frames_5_left.jpg\t       img0028.jpg\n",
      "DSCN9949_150frames_5_right.jpg\t       img0029.jpg\n",
      "DSCN9949_150frames_6_left.jpg\t       img0030.jpg\n",
      "DSCN9949_150frames_6_right.jpg\t       img0031.jpg\n",
      "DSCN9949_150frames_7_left.jpg\t       img0032.jpg\n",
      "DSCN9949_150frames_7_right.jpg\t       img0033.jpg\n",
      "DSCN9949_150frames_8_left.jpg\t       img0034.jpg\n",
      "DSCN9949_150frames_8_right.jpg\t       img0035.jpg\n",
      "DSCN9949_150frames_9_left.jpg\t       img0036.jpg\n",
      "DSCN9949_150frames_9_right.jpg\t       img0037.jpg\n",
      "DSCN9950_150frames_0_left.jpg\t       img0038.jpg\n",
      "DSCN9950_150frames_0_right.jpg\t       img0039.jpg\n",
      "DSCN9950_150frames_10_left.jpg\t       img0040.jpg\n",
      "DSCN9950_150frames_10_right.jpg        img0041.jpg\n",
      "DSCN9950_150frames_11_left.jpg\t       img0042.jpg\n",
      "DSCN9950_150frames_11_right.jpg        img0043.jpg\n",
      "DSCN9950_150frames_1_left.jpg\t       img0044.jpg\n",
      "DSCN9950_150frames_1_right.jpg\t       img0045.jpg\n",
      "DSCN9950_150frames_2_left.jpg\t       img0046.jpg\n",
      "DSCN9950_150frames_2_right.jpg\t       img0047.jpg\n",
      "DSCN9950_150frames_3_left.jpg\t       img0048.jpg\n",
      "DSCN9950_150frames_3_right.jpg\t       img0049.jpg\n",
      "DSCN9950_150frames_4_left.jpg\t       img0050.jpg\n",
      "DSCN9950_150frames_4_right.jpg\t       img0051.jpg\n",
      "DSCN9950_150frames_5_left.jpg\t       img0052.jpg\n",
      "DSCN9950_150frames_5_right.jpg\t       img0053.jpg\n",
      "DSCN9950_150frames_6_left.jpg\t       img0054.jpg\n",
      "DSCN9950_150frames_6_right.jpg\t       img0055.jpg\n",
      "DSCN9950_150frames_7_left.jpg\t       img0056.jpg\n",
      "DSCN9950_150frames_7_right.jpg\t       img0057.jpg\n",
      "DSCN9950_150frames_8_left.jpg\t       img0058.jpg\n",
      "DSCN9950_150frames_8_right.jpg\t       img0059.jpg\n",
      "DSCN9950_150frames_9_left.jpg\t       img0060.jpg\n",
      "DSCN9950_150frames_9_right.jpg\t       img0061.jpg\n",
      "DSCN9951_150frames_0_left.jpg\t       img0062.jpg\n",
      "DSCN9951_150frames_0_right.jpg\t       img0063.jpg\n",
      "DSCN9951_150frames_1_left.jpg\t       img0064.jpg\n",
      "DSCN9951_150frames_1_right.jpg\t       img0065.jpg\n",
      "DSCN9951_150frames_2_left.jpg\t       img0066.jpg\n",
      "DSCN9951_150frames_2_right.jpg\t       img0067.jpg\n",
      "DSCN9951_150frames_3_left.jpg\t       img0068.jpg\n",
      "DSCN9951_150frames_3_right.jpg\t       img0069.jpg\n",
      "DSCN9951_150frames_4_left.jpg\t       img0070.jpg\n",
      "DSCN9951_150frames_4_right.jpg\t       img0071.jpg\n",
      "DSCN9952_150frames_0_left.jpg\t       img0072.jpg\n",
      "DSCN9952_150frames_0_right.jpg\t       img0073.jpg\n",
      "DSCN9952_150frames_1_left.jpg\t       img0074.jpg\n",
      "DSCN9952_150frames_1_right.jpg\t       img0075.jpg\n",
      "DSCN9952_150frames_2_left.jpg\t       img0076.jpg\n",
      "DSCN9952_150frames_2_right.jpg\t       img0077.jpg\n",
      "DSCN9952_150frames_3_left.jpg\t       img0078.jpg\n",
      "DSCN9952_150frames_3_right.jpg\t       img0079.jpg\n",
      "DSCN9952_150frames_4_left.jpg\t       img0080.jpg\n",
      "DSCN9952_150frames_4_right.jpg\t       img0081.jpg\n",
      "DSCN9954_150frames_0_left.jpg\t       img0082.jpg\n",
      "DSCN9954_150frames_0_right.jpg\t       img0083.jpg\n",
      "DSCN9954_150frames_1_left.jpg\t       img0084.jpg\n",
      "DSCN9954_150frames_1_right.jpg\t       img0085.jpg\n",
      "DSCN9954_150frames_2_left.jpg\t       img0086.jpg\n",
      "DSCN9954_150frames_2_right.jpg\t       img0087.jpg\n",
      "DSCN9954_150frames_3_left.jpg\t       img0088.jpg\n",
      "DSCN9954_150frames_3_right.jpg\t       img0089.jpg\n",
      "DSCN9954_150frames_4_left.jpg\t       img0090.jpg\n",
      "DSCN9954_150frames_4_right.jpg\t       img0091.jpg\n",
      "DSCN9954_150frames_5_left.jpg\t       img0092.jpg\n",
      "DSCN9954_150frames_5_right.jpg\t       img0093.jpg\n",
      "DSCN9954_150frames_6_left.jpg\t       img0094.jpg\n",
      "DSCN9954_150frames_6_right.jpg\t       img0095.jpg\n",
      "DSCN9955_150frames_0_left.jpg\t       img0096.jpg\n",
      "DSCN9955_150frames_0_right.jpg\t       img0097.jpg\n",
      "DSCN9955_150frames_10_left.jpg\t       img0098.jpg\n",
      "DSCN9955_150frames_10_right.jpg        img0099.jpg\n",
      "DSCN9955_150frames_11_left.jpg\t       img0100.jpg\n",
      "DSCN9955_150frames_11_right.jpg        img0101.jpg\n",
      "DSCN9955_150frames_1_left.jpg\t       img0102.jpg\n",
      "DSCN9955_150frames_1_right.jpg\t       img0103.jpg\n",
      "DSCN9955_150frames_2_left.jpg\t       img0104.jpg\n",
      "DSCN9955_150frames_2_right.jpg\t       img0105.jpg\n",
      "DSCN9955_150frames_3_left.jpg\t       img0106.jpg\n",
      "DSCN9955_150frames_3_right.jpg\t       img0107.jpg\n",
      "DSCN9955_150frames_4_left.jpg\t       img0108.jpg\n",
      "DSCN9955_150frames_4_right.jpg\t       img0109.jpg\n",
      "DSCN9955_150frames_5_left.jpg\t       img0110.jpg\n",
      "DSCN9955_150frames_5_right.jpg\t       img0111.jpg\n",
      "DSCN9955_150frames_6_left.jpg\t       img0112.jpg\n",
      "DSCN9955_150frames_6_right.jpg\t       img0113.jpg\n",
      "DSCN9955_150frames_7_left.jpg\t       img0114.jpg\n",
      "DSCN9955_150frames_7_right.jpg\t       img0115.jpg\n",
      "DSCN9955_150frames_8_left.jpg\t       img0116.jpg\n",
      "DSCN9955_150frames_8_right.jpg\t       img0117.jpg\n",
      "DSCN9955_150frames_9_left.jpg\t       img0118.jpg\n",
      "DSCN9955_150frames_9_right.jpg\t       img0119.jpg\n",
      "DSCN9956_150frames_0_left.jpg\t       img0120.jpg\n",
      "DSCN9956_150frames_0_right.jpg\t       img0121.jpg\n",
      "DSCN9956_150frames_1_left.jpg\t       img0122.jpg\n",
      "DSCN9956_150frames_1_right.jpg\t       img0123.jpg\n",
      "DSCN9956_150frames_2_left.jpg\t       img0124.jpg\n",
      "DSCN9956_150frames_2_right.jpg\t       img0125.jpg\n",
      "DSCN9956_150frames_3_left.jpg\t       img0126.jpg\n",
      "DSCN9956_150frames_3_right.jpg\t       img0127.jpg\n",
      "DSCN9956_150frames_4_left.jpg\t       img0128.jpg\n",
      "DSCN9956_150frames_4_right.jpg\t       img0129.jpg\n",
      "DSCN9957_150frames_0_left.jpg\t       img0130.jpg\n",
      "DSCN9957_150frames_0_right.jpg\t       img0131.jpg\n"
     ]
    }
   ],
   "source": [
    "!cp -a \"/content/gdrive/My Drive/pszczoly/images/.\" \"dataset/train\"\n",
    "!ls \"dataset/train\""
   ]
  },
  {
   "cell_type": "code",
   "execution_count": 0,
   "metadata": {
    "id": "329y104dUR_G",
    "colab_type": "code",
    "outputId": "6e2b193c-1229-457b-9364-fed658bc034c",
    "colab": {
     "base_uri": "https://localhost:8080/",
     "height": 3036.0
    }
   },
   "outputs": [
    {
     "name": "stdout",
     "output_type": "stream",
     "text": [
      "Using TensorFlow backend.\n",
      "2019-01-09 12:41:38.162888: I tensorflow/stream_executor/cuda/cuda_gpu_executor.cc:964] successful NUMA node read from SysFS had negative value (-1), but there must be at least one NUMA node, so returning NUMA node zero\n",
      "2019-01-09 12:41:38.163376: I tensorflow/core/common_runtime/gpu/gpu_device.cc:1432] Found device 0 with properties: \n",
      "name: Tesla K80 major: 3 minor: 7 memoryClockRate(GHz): 0.8235\n",
      "pciBusID: 0000:00:04.0\n",
      "totalMemory: 11.17GiB freeMemory: 11.10GiB\n",
      "2019-01-09 12:41:38.163420: I tensorflow/core/common_runtime/gpu/gpu_device.cc:1511] Adding visible gpu devices: 0\n",
      "2019-01-09 12:41:38.577772: I tensorflow/core/common_runtime/gpu/gpu_device.cc:982] Device interconnect StreamExecutor with strength 1 edge matrix:\n",
      "2019-01-09 12:41:38.577834: I tensorflow/core/common_runtime/gpu/gpu_device.cc:988]      0 \n",
      "2019-01-09 12:41:38.577861: I tensorflow/core/common_runtime/gpu/gpu_device.cc:1001] 0:   N \n",
      "2019-01-09 12:41:38.578255: W tensorflow/core/common_runtime/gpu/gpu_bfc_allocator.cc:42] Overriding allow_growth setting because the TF_FORCE_GPU_ALLOW_GROWTH environment variable is set. Original config value was 0.\n",
      "2019-01-09 12:41:38.578326: I tensorflow/core/common_runtime/gpu/gpu_device.cc:1115] Created TensorFlow device (/job:localhost/replica:0/task:0/device:GPU:0 with 10758 MB memory) -> physical GPU (device: 0, name: Tesla K80, pci bus id: 0000:00:04.0, compute capability: 3.7)\n",
      "Create Tiny YOLOv3 model with 6 anchors and 1 classes.\n",
      "/usr/local/lib/python3.6/dist-packages/keras/engine/saving.py:1140: UserWarning: Skipping loading of weights for layer conv2d_10 due to mismatch in shape ((1, 1, 512, 18) vs (255, 512, 1, 1)).\n",
      "  weight_values[i].shape))\n",
      "/usr/local/lib/python3.6/dist-packages/keras/engine/saving.py:1140: UserWarning: Skipping loading of weights for layer conv2d_10 due to mismatch in shape ((18,) vs (255,)).\n",
      "  weight_values[i].shape))\n",
      "/usr/local/lib/python3.6/dist-packages/keras/engine/saving.py:1140: UserWarning: Skipping loading of weights for layer conv2d_13 due to mismatch in shape ((1, 1, 256, 18) vs (30, 256, 1, 1)).\n",
      "  weight_values[i].shape))\n",
      "/usr/local/lib/python3.6/dist-packages/keras/engine/saving.py:1140: UserWarning: Skipping loading of weights for layer conv2d_13 due to mismatch in shape ((18,) vs (30,)).\n",
      "  weight_values[i].shape))\n",
      "Load weights model_data/tiny_yolo_weights.h5.\n",
      "Freeze the first 42 layers of total 44 layers.\n",
      "Train on 244 samples, val on 27 samples, with batch size 32.\n",
      "Epoch 1/50\n",
      "7/7 [==============================] - 26s 4s/step - loss: 1212.7016 - val_loss: 714.7350\n",
      "Epoch 2/50\n",
      "7/7 [==============================] - 20s 3s/step - loss: 579.3294 - val_loss: 358.5117\n",
      "Epoch 3/50\n",
      "7/7 [==============================] - 16s 2s/step - loss: 296.3711 - val_loss: 188.7919\n",
      "Epoch 4/50\n",
      "7/7 [==============================] - 15s 2s/step - loss: 173.9382 - val_loss: 129.7712\n",
      "Epoch 5/50\n",
      "7/7 [==============================] - 16s 2s/step - loss: 126.6750 - val_loss: 87.8094\n",
      "Epoch 6/50\n",
      "7/7 [==============================] - 16s 2s/step - loss: 97.8828 - val_loss: 77.5684\n",
      "Epoch 7/50\n",
      "7/7 [==============================] - 16s 2s/step - loss: 83.4800 - val_loss: 66.9640\n",
      "Epoch 8/50\n",
      "7/7 [==============================] - 16s 2s/step - loss: 71.9415 - val_loss: 62.8583\n",
      "Epoch 9/50\n",
      "7/7 [==============================] - 16s 2s/step - loss: 65.3497 - val_loss: 55.0898\n",
      "Epoch 10/50\n",
      "7/7 [==============================] - 16s 2s/step - loss: 63.0395 - val_loss: 56.1294\n",
      "Epoch 11/50\n",
      "7/7 [==============================] - 16s 2s/step - loss: 58.3385 - val_loss: 46.6962\n",
      "Epoch 12/50\n",
      "7/7 [==============================] - 16s 2s/step - loss: 55.9535 - val_loss: 49.6329\n",
      "Epoch 13/50\n",
      "7/7 [==============================] - 16s 2s/step - loss: 51.7650 - val_loss: 46.1993\n",
      "Epoch 14/50\n",
      "7/7 [==============================] - 16s 2s/step - loss: 50.1938 - val_loss: 42.5631\n",
      "Epoch 15/50\n",
      "7/7 [==============================] - 16s 2s/step - loss: 49.7623 - val_loss: 44.8697\n",
      "Epoch 16/50\n",
      "7/7 [==============================] - 16s 2s/step - loss: 48.0278 - val_loss: 39.7959\n",
      "Epoch 17/50\n",
      "7/7 [==============================] - 16s 2s/step - loss: 45.5816 - val_loss: 43.2743\n",
      "Epoch 18/50\n",
      "7/7 [==============================] - 16s 2s/step - loss: 45.8191 - val_loss: 38.5783\n",
      "Epoch 19/50\n",
      "7/7 [==============================] - 16s 2s/step - loss: 45.7633 - val_loss: 40.7589\n",
      "Epoch 20/50\n",
      "7/7 [==============================] - 16s 2s/step - loss: 43.4063 - val_loss: 38.4442\n",
      "Epoch 21/50\n",
      "7/7 [==============================] - 16s 2s/step - loss: 40.5527 - val_loss: 35.6650\n",
      "Epoch 22/50\n",
      "7/7 [==============================] - 16s 2s/step - loss: 41.1283 - val_loss: 37.1258\n",
      "Epoch 23/50\n",
      "7/7 [==============================] - 16s 2s/step - loss: 41.2765 - val_loss: 38.4408\n",
      "Epoch 24/50\n",
      "7/7 [==============================] - 16s 2s/step - loss: 40.8174 - val_loss: 32.3082\n",
      "Epoch 25/50\n",
      "7/7 [==============================] - 16s 2s/step - loss: 38.3854 - val_loss: 38.4454\n",
      "Epoch 26/50\n",
      "7/7 [==============================] - 16s 2s/step - loss: 39.2500 - val_loss: 32.9784\n",
      "Epoch 27/50\n",
      "7/7 [==============================] - 16s 2s/step - loss: 36.9009 - val_loss: 32.8803\n",
      "Epoch 28/50\n",
      "7/7 [==============================] - 16s 2s/step - loss: 40.0081 - val_loss: 30.0432\n",
      "Epoch 29/50\n",
      "7/7 [==============================] - 16s 2s/step - loss: 39.1361 - val_loss: 38.0839\n",
      "Epoch 30/50\n",
      "7/7 [==============================] - 16s 2s/step - loss: 38.3292 - val_loss: 28.3843\n",
      "Epoch 31/50\n",
      "7/7 [==============================] - 16s 2s/step - loss: 38.5967 - val_loss: 35.2686\n",
      "Epoch 32/50\n",
      "7/7 [==============================] - 16s 2s/step - loss: 34.6541 - val_loss: 30.9330\n",
      "Epoch 33/50\n",
      "7/7 [==============================] - 16s 2s/step - loss: 40.7794 - val_loss: 30.6223\n",
      "Epoch 34/50\n",
      "7/7 [==============================] - 16s 2s/step - loss: 35.7990 - val_loss: 28.9394\n",
      "Epoch 35/50\n",
      "7/7 [==============================] - 16s 2s/step - loss: 35.7617 - val_loss: 33.5633\n",
      "Epoch 36/50\n",
      "7/7 [==============================] - 16s 2s/step - loss: 35.6007 - val_loss: 33.7023\n",
      "Epoch 37/50\n",
      "7/7 [==============================] - 16s 2s/step - loss: 35.4483 - val_loss: 32.2705\n",
      "Epoch 38/50\n",
      "7/7 [==============================] - 16s 2s/step - loss: 35.1692 - val_loss: 30.0005\n",
      "Epoch 39/50\n",
      "7/7 [==============================] - 16s 2s/step - loss: 33.8827 - val_loss: 34.2768\n",
      "Epoch 40/50\n",
      "7/7 [==============================] - 16s 2s/step - loss: 33.4336 - val_loss: 28.7130\n",
      "Epoch 41/50\n",
      "7/7 [==============================] - 16s 2s/step - loss: 33.3812 - val_loss: 35.7487\n",
      "Epoch 42/50\n",
      "7/7 [==============================] - 16s 2s/step - loss: 33.7832 - val_loss: 31.3948\n",
      "Epoch 44/50\n",
      "7/7 [==============================] - 16s 2s/step - loss: 36.3603 - val_loss: 31.5229\n",
      "Epoch 45/50\n",
      "7/7 [==============================] - 16s 2s/step - loss: 32.8915 - val_loss: 27.9658\n",
      "Epoch 46/50\n",
      "7/7 [==============================] - 16s 2s/step - loss: 33.3446 - val_loss: 29.4712\n",
      "Epoch 47/50\n",
      "7/7 [==============================] - 16s 2s/step - loss: 34.9115 - val_loss: 25.2672\n",
      "Epoch 48/50\n",
      "7/7 [==============================] - 16s 2s/step - loss: 32.9261 - val_loss: 30.9679\n",
      "Epoch 49/50\n",
      "7/7 [==============================] - 16s 2s/step - loss: 33.4425 - val_loss: 30.7372\n",
      "Epoch 50/50\n",
      "7/7 [==============================] - 16s 2s/step - loss: 33.8977 - val_loss: 25.3618\n",
      "Unfreeze all of the layers.\n",
      "Train on 244 samples, val on 27 samples, with batch size 32.\n",
      "Epoch 51/100\n",
      "7/7 [==============================] - 27s 4s/step - loss: 30.0575 - val_loss: 22.5390\n",
      "Epoch 52/100\n",
      "7/7 [==============================] - 21s 3s/step - loss: 26.7699 - val_loss: 26.3723\n",
      "Epoch 53/100\n",
      "7/7 [==============================] - 17s 2s/step - loss: 25.9777 - val_loss: 21.0698\n",
      "Epoch 54/100\n",
      "7/7 [==============================] - 17s 2s/step - loss: 24.8331 - val_loss: 21.9037\n",
      "Epoch 55/100\n",
      "7/7 [==============================] - 17s 2s/step - loss: 23.1480 - val_loss: 24.5899\n",
      "Epoch 56/100\n",
      "7/7 [==============================] - 17s 2s/step - loss: 23.5601 - val_loss: 21.1227\n",
      "\n",
      "Epoch 00056: ReduceLROnPlateau reducing learning rate to 9.999999747378752e-06.\n",
      "Epoch 57/100\n",
      "7/7 [==============================] - 17s 2s/step - loss: 24.2804 - val_loss: 20.2740\n",
      "Epoch 58/100\n",
      "7/7 [==============================] - 17s 2s/step - loss: 22.8466 - val_loss: 19.2622\n",
      "Epoch 59/100\n",
      "7/7 [==============================] - 17s 2s/step - loss: 23.9615 - val_loss: 17.9084\n",
      "Epoch 60/100\n",
      "7/7 [==============================] - 17s 2s/step - loss: 23.2559 - val_loss: 17.1191\n",
      "Epoch 61/100\n",
      "7/7 [==============================] - 17s 2s/step - loss: 23.0024 - val_loss: 22.8378\n",
      "Epoch 62/100\n",
      "7/7 [==============================] - 17s 2s/step - loss: 21.9373 - val_loss: 21.7804\n",
      "Epoch 63/100\n",
      "7/7 [==============================] - 17s 2s/step - loss: 22.9806 - val_loss: 19.3374\n",
      "\n",
      "Epoch 00063: ReduceLROnPlateau reducing learning rate to 9.999999747378752e-07.\n",
      "Epoch 64/100\n",
      "7/7 [==============================] - 17s 2s/step - loss: 21.7534 - val_loss: 24.4852\n",
      "Epoch 65/100\n",
      "7/7 [==============================] - 17s 2s/step - loss: 21.7327 - val_loss: 18.3774\n",
      "Epoch 66/100\n",
      "7/7 [==============================] - 17s 2s/step - loss: 23.3510 - val_loss: 18.1022\n",
      "\n",
      "Epoch 00066: ReduceLROnPlateau reducing learning rate to 9.999999974752428e-08.\n",
      "Epoch 67/100\n",
      "7/7 [==============================] - 17s 2s/step - loss: 23.1196 - val_loss: 20.3273\n",
      "Epoch 68/100\n",
      "7/7 [==============================] - 17s 2s/step - loss: 22.7620 - val_loss: 21.4336\n",
      "Epoch 69/100\n",
      "7/7 [==============================] - 17s 2s/step - loss: 21.8896 - val_loss: 22.1195\n",
      "\n",
      "Epoch 00069: ReduceLROnPlateau reducing learning rate to 1.0000000116860975e-08.\n",
      "Epoch 70/100\n",
      "7/7 [==============================] - 17s 2s/step - loss: 22.9095 - val_loss: 21.4684\n",
      "Epoch 00070: early stopping\n"
     ]
    }
   ],
   "source": [
    "!python train.py"
   ]
  },
  {
   "cell_type": "code",
   "execution_count": 0,
   "metadata": {
    "id": "clmPywaov4K6",
    "colab_type": "code",
    "outputId": "cdb022d2-3db9-4d9e-d246-0d61917f3aa1",
    "colab": {
     "base_uri": "https://localhost:8080/",
     "height": 87.0
    }
   },
   "outputs": [
    {
     "name": "stdout",
     "output_type": "stream",
     "text": [
      "bee.ipynb   main.py\tvoc_annotation.py   yolov3-tiny.weights\n",
      "convert.py  model_data\tyolo3\n",
      "dataset     train.py\tyolov3_tiny-1c.cfg\n",
      "logs\t    train.txt\tyolov3-tiny.cfg\n"
     ]
    }
   ],
   "source": [
    "!ls"
   ]
  },
  {
   "cell_type": "code",
   "execution_count": 0,
   "metadata": {
    "id": "gsudAoiHwmA5",
    "colab_type": "code",
    "colab": {}
   },
   "outputs": [],
   "source": [
    "!cp -a \"logs\" \"/content/gdrive/My Drive/pszczoly/.\" \n"
   ]
  }
 ],
 "metadata": {
  "colab": {
   "name": "Copy of bee.ipynb",
   "version": "0.3.2",
   "provenance": [],
   "collapsed_sections": []
  },
  "kernelspec": {
   "name": "python3",
   "display_name": "Python 3"
  },
  "accelerator": "GPU"
 },
 "nbformat": 4,
 "nbformat_minor": 0
}
